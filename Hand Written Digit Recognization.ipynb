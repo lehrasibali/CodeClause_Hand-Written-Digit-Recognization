{
 "cells": [
  {
   "cell_type": "markdown",
   "id": "17fdfb4f",
   "metadata": {},
   "source": [
    "# Lehrasib Ali \n",
    "### CC-OL-40287"
   ]
  },
  {
   "cell_type": "markdown",
   "id": "0da9b7b6",
   "metadata": {},
   "source": [
    "# Code Clause\n",
    "## Allocated Project 1\n",
    "## Hand Written Digit Recognization"
   ]
  },
  {
   "cell_type": "markdown",
   "id": "8eda0351",
   "metadata": {},
   "source": [
    "**-------------------------------------------------------------------------------------------------------------------------------------------------------------------------**\n",
    "\n",
    "### **Importing Libraries**"
   ]
  },
  {
   "cell_type": "code",
   "execution_count": 16,
   "id": "209b2fa8",
   "metadata": {},
   "outputs": [],
   "source": [
    "import numpy as np\n",
    "import matplotlib.pyplot as plt\n",
    "import seaborn as sns\n",
    "from sklearn.datasets import load_digits\n",
    "from sklearn.model_selection import train_test_split\n",
    "from sklearn.metrics import confusion_matrix\n",
    "from sklearn.utils.multiclass import unique_labels"
   ]
  },
  {
   "cell_type": "markdown",
   "id": "633ccdcd",
   "metadata": {},
   "source": [
    "### **Loading Scikit-learn Digits Dataset**"
   ]
  },
  {
   "cell_type": "code",
   "execution_count": 12,
   "id": "311b8de4",
   "metadata": {},
   "outputs": [],
   "source": [
    "digits = load_digits()\n",
    "X = digits.data\n",
    "y = digits.target"
   ]
  },
  {
   "cell_type": "markdown",
   "id": "e2744322",
   "metadata": {},
   "source": [
    "### **Displaying Dataset from each class**"
   ]
  },
  {
   "cell_type": "code",
   "execution_count": 6,
   "id": "e4fe9e7a",
   "metadata": {},
   "outputs": [
    {
     "data": {
      "image/png": "[encoded data removed]",
      "text/plain": [
       "<Figure size 720x288 with 10 Axes>"
      ]
     },
     "metadata": {
      "needs_background": "light"
     },
     "output_type": "display_data"
    }
   ],
   "source": [
    "fig, axes = plt.subplots(nrows=2, ncols=5, figsize=(10, 4))\n",
    "for i, ax in enumerate(axes.flat):\n",
    "    ax.imshow(X[i].reshape(8, 8), cmap='gray')\n",
    "    ax.set_title(f\"Label: {y[i]}\")\n",
    "    ax.axis('off')\n",
    "plt.tight_layout()\n",
    "plt.show()"
   ]
  },
  {
   "cell_type": "markdown",
   "id": "a3a227e2",
   "metadata": {},
   "source": [
    "### **Data Analysis and Exploration**"
   ]
  },
  {
   "cell_type": "code",
   "execution_count": 7,
   "id": "04395aa3",
   "metadata": {},
   "outputs": [
    {
     "name": "stdout",
     "output_type": "stream",
     "text": [
      "Number of samples: 1797\n",
      "Number of features: 64\n",
      "Number of classes: 10\n"
     ]
    }
   ],
   "source": [
    "print(\"Number of samples:\", X.shape[0])\n",
    "print(\"Number of features:\", X.shape[1])\n",
    "print(\"Number of classes:\", len(np.unique(y)))"
   ]
  },
  {
   "cell_type": "markdown",
   "id": "af53b775",
   "metadata": {},
   "source": [
    "**Histogram of Class Distribution**"
   ]
  },
  {
   "cell_type": "code",
   "execution_count": 10,
   "id": "7887d505",
   "metadata": {},
   "outputs": [
    {
     "data": {
      "image/png": "[encoded data removed]",
      "text/plain": [
       "<Figure size 576x432 with 1 Axes>"
      ]
     },
     "metadata": {
      "needs_background": "light"
     },
     "output_type": "display_data"
    }
   ],
   "source": [
    "class_counts = np.bincount(y)\n",
    "plt.figure(figsize=(8, 6))\n",
    "plt.bar(range(10), class_counts, tick_label=np.arange(10))\n",
    "plt.xlabel(\"Class\")\n",
    "plt.ylabel(\"Count\")\n",
    "plt.title(\"Class Distribution\")\n",
    "plt.show()"
   ]
  },
  {
   "cell_type": "markdown",
   "id": "89579581",
   "metadata": {},
   "source": [
    "**Histogram of Pixels Intensity Distribution**\n"
   ]
  },
  {
   "cell_type": "code",
   "execution_count": 11,
   "id": "aaabd6ea",
   "metadata": {},
   "outputs": [
    {
     "data": {
      "image/png": "[encoded data removed]",
      "text/plain": [
       "<Figure size 576x432 with 1 Axes>"
      ]
     },
     "metadata": {
      "needs_background": "light"
     },
     "output_type": "display_data"
    }
   ],
   "source": [
    "plt.figure(figsize=(8, 6))\n",
    "plt.hist(X.flatten(), bins=16, range=(0, 16), edgecolor='k')\n",
    "plt.xlabel(\"Pixel Intensity\")\n",
    "plt.ylabel(\"Frequency\")\n",
    "plt.title(\"Pixel Intensity Distribution\")\n",
    "plt.show()"
   ]
  },
  {
   "cell_type": "markdown",
   "id": "cea02ce8",
   "metadata": {},
   "source": [
    "### **Splitting Data into Training & Testing Datasets**"
   ]
  },
  {
   "cell_type": "code",
   "execution_count": 13,
   "id": "01cf9f35",
   "metadata": {},
   "outputs": [],
   "source": [
    "X_train, X_test, y_train, y_test = train_test_split(X, y, test_size=0.2, random_state=42)"
   ]
  },
  {
   "cell_type": "markdown",
   "id": "7b922567",
   "metadata": {},
   "source": [
    "### **Defining Model Architecture**"
   ]
  },
  {
   "cell_type": "code",
   "execution_count": 14,
   "id": "3c180e70",
   "metadata": {},
   "outputs": [],
   "source": [
    "class NeuralNetwork:\n",
    "    def __init__(self):\n",
    "        self.input_size = 64  # Number of input features (8x8 image size)\n",
    "        self.hidden_size = 64  # Number of neurons in the hidden layer\n",
    "        self.output_size = 10  # Number of output classes (0-9 digits)\n",
    "        self.learning_rate = 0.1  # Learning rate for weight updates\n",
    "\n",
    "        self.W1 = np.random.randn(self.input_size, self.hidden_size)\n",
    "        self.b1 = np.zeros((1, self.hidden_size))\n",
    "        self.W2 = np.random.randn(self.hidden_size, self.output_size)\n",
    "        self.b2 = np.zeros((1, self.output_size))\n",
    "\n",
    "    def forward(self, X):\n",
    "        self.z1 = np.dot(X, self.W1) + self.b1\n",
    "        self.a1 = self.sigmoid(self.z1)\n",
    "        self.z2 = np.dot(self.a1, self.W2) + self.b2\n",
    "        self.a2 = self.softmax(self.z2)\n",
    "\n",
    "    def backward(self, X, y):\n",
    "        m = X.shape[0]  # Number of training examples\n",
    "\n",
    "        self.dz2 = self.a2\n",
    "        self.dz2[range(m), y] -= 1\n",
    "        self.dz2 /= m\n",
    "\n",
    "        self.dW2 = np.dot(self.a1.T, self.dz2)\n",
    "        self.db2 = np.sum(self.dz2, axis=0, keepdims=True)\n",
    "\n",
    "        self.da1 = np.dot(self.dz2, self.W2.T)\n",
    "        self.dz1 = self.da1 * self.sigmoid_derivative(self.a1)\n",
    "        self.dW1 = np.dot(X.T, self.dz1)\n",
    "        self.db1 = np.sum(self.dz1, axis=0, keepdims=True)\n",
    "\n",
    "    def update_weights(self):\n",
    "        self.W1 -= self.learning_rate * self.dW1\n",
    "        self.b1 -= self.learning_rate * self.db1\n",
    "        self.W2 -= self.learning_rate * self.dW2\n",
    "        self.b2 -= self.learning_rate * self.db2\n",
    "\n",
    "    def train(self, X, y, epochs):\n",
    "        for epoch in range(epochs):\n",
    "            self.forward(X)\n",
    "            self.backward(X, y)\n",
    "            self.update_weights()\n",
    "\n",
    "    def predict(self, X):\n",
    "        self.forward(X)\n",
    "        return np.argmax(self.a2, axis=1)\n",
    "\n",
    "    @staticmethod\n",
    "    def sigmoid(x):\n",
    "        return 1 / (1 + np.exp(-x))\n",
    "\n",
    "    @staticmethod\n",
    "    def sigmoid_derivative(x):\n",
    "        return x * (1 - x)\n",
    "\n",
    "    @staticmethod\n",
    "    def softmax(x):\n",
    "        exps = np.exp(x - np.max(x, axis=1, keepdims=True))\n",
    "        return exps / np.sum(exps, axis=1, keepdims=True)\n"
   ]
  },
  {
   "cell_type": "markdown",
   "id": "e4dd82d2",
   "metadata": {},
   "source": [
    "### **Creating and Training Model**"
   ]
  },
  {
   "cell_type": "code",
   "execution_count": 23,
   "id": "ed48f741",
   "metadata": {},
   "outputs": [],
   "source": [
    "model = NeuralNetwork()\n",
    "model.train(X_train, y_train, epochs=100000)"
   ]
  },
  {
   "cell_type": "markdown",
   "id": "72ae6293",
   "metadata": {},
   "source": [
    "### **Predicting on testing data**"
   ]
  },
  {
   "cell_type": "code",
   "execution_count": 24,
   "id": "6e4c9f8f",
   "metadata": {},
   "outputs": [
    {
     "data": {
      "image/png": "[encoded data removed]",
      "text/plain": [
       "<Figure size 720x432 with 10 Axes>"
      ]
     },
     "metadata": {
      "needs_background": "light"
     },
     "output_type": "display_data"
    }
   ],
   "source": [
    "y_pred = model.predict(X_test)\n",
    "fig, axes = plt.subplots(nrows=2, ncols=5, figsize=(10, 6))\n",
    "for i, ax in enumerate(axes.flat):\n",
    "    ax.imshow(X_test[i].reshape(8, 8), cmap='gray')\n",
    "    ax.set_title(f\"True: {y_test[i]}\\nPredicted: {y_pred[i]}\", fontsize=10)\n",
    "    ax.axis('off')\n",
    "plt.tight_layout()\n",
    "plt.show()"
   ]
  },
  {
   "cell_type": "markdown",
   "id": "0cc87969",
   "metadata": {},
   "source": [
    "### **Evaluating Model's Accuracy**"
   ]
  },
  {
   "cell_type": "code",
   "execution_count": 26,
   "id": "17234b4f",
   "metadata": {},
   "outputs": [
    {
     "name": "stdout",
     "output_type": "stream",
     "text": [
      "Accuracy: 0.9416666666666667\n"
     ]
    }
   ],
   "source": [
    "accuracy = accuracy_score(y_test, y_pred)\n",
    "print(\"Accuracy:\", accuracy)"
   ]
  },
  {
   "cell_type": "markdown",
   "id": "8740423c",
   "metadata": {},
   "source": [
    "### **Generating Confusion Matrix**"
   ]
  },
  {
   "cell_type": "code",
   "execution_count": 28,
   "id": "a25e8d8b",
   "metadata": {},
   "outputs": [
    {
     "data": {
      "image/png": "[encoded data removed]",
      "text/plain": [
       "<Figure size 576x576 with 2 Axes>"
      ]
     },
     "metadata": {
      "needs_background": "light"
     },
     "output_type": "display_data"
    }
   ],
   "source": [
    "cm = confusion_matrix(y_test, y_pred)\n",
    "\n",
    "# Get class labels\n",
    "classes = unique_labels(y_test, y_pred)\n",
    "\n",
    "# Plot confusion matrix\n",
    "fig, ax = plt.subplots(figsize=(8, 8))\n",
    "sns.heatmap(cm, annot=True, cmap=\"Blues\", fmt=\"d\", xticklabels=classes, yticklabels=classes, ax=ax)\n",
    "ax.set_xlabel(\"Predicted\")\n",
    "ax.set_ylabel(\"True\")\n",
    "ax.set_title(\"Confusion Matrix\")\n",
    "plt.show()"
   ]
  },
  {
   "cell_type": "markdown",
   "id": "826b8544",
   "metadata": {},
   "source": [
    "# Using Built-in Model"
   ]
  },
  {
   "cell_type": "markdown",
   "id": "25373dde",
   "metadata": {},
   "source": [
    "**Importing Model**"
   ]
  },
  {
   "cell_type": "code",
   "execution_count": 29,
   "id": "5cc897d8",
   "metadata": {},
   "outputs": [],
   "source": [
    "from sklearn.neural_network import MLPClassifier"
   ]
  },
  {
   "cell_type": "markdown",
   "id": "403f8a7d",
   "metadata": {},
   "source": [
    "**Creating and Training Model**"
   ]
  },
  {
   "cell_type": "code",
   "execution_count": 30,
   "id": "8ec314fe",
   "metadata": {},
   "outputs": [
    {
     "data": {
      "text/plain": [
       "MLPClassifier(hidden_layer_sizes=(64, 64), max_iter=1000)"
      ]
     },
     "execution_count": 30,
     "metadata": {},
     "output_type": "execute_result"
    }
   ],
   "source": [
    "built_in_model = MLPClassifier(hidden_layer_sizes=(64, 64), max_iter=1000)  # You can adjust the hidden layer sizes as per your preference\n",
    "built_in_model.fit(X_train, y_train)"
   ]
  },
  {
   "cell_type": "markdown",
   "id": "f763f59c",
   "metadata": {},
   "source": [
    "**Predicting on Testing Data**"
   ]
  },
  {
   "cell_type": "code",
   "execution_count": 33,
   "id": "b38de117",
   "metadata": {},
   "outputs": [],
   "source": [
    "y_pred = built_in_model.predict(X_test)"
   ]
  },
  {
   "cell_type": "markdown",
   "id": "34edc49c",
   "metadata": {},
   "source": [
    "**Evaluating Accuracy**"
   ]
  },
  {
   "cell_type": "code",
   "execution_count": 35,
   "id": "9b23b7cd",
   "metadata": {},
   "outputs": [
    {
     "name": "stdout",
     "output_type": "stream",
     "text": [
      "Accuracy: 0.9722222222222222\n"
     ]
    }
   ],
   "source": [
    "accuracy = accuracy_score(y_test, y_pred)\n",
    "print(\"Accuracy:\", accuracy)"
   ]
  },
  {
   "cell_type": "markdown",
   "id": "9a5e719e",
   "metadata": {},
   "source": [
    "**Generating Confusion Matrix**"
   ]
  },
  {
   "cell_type": "code",
   "execution_count": 36,
   "id": "70d9e8f8",
   "metadata": {
    "scrolled": false
   },
   "outputs": [
    {
     "data": {
      "image/png": "[encoded data removed]",
      "text/plain": [
       "<Figure size 576x576 with 2 Axes>"
      ]
     },
     "metadata": {
      "needs_background": "light"
     },
     "output_type": "display_data"
    }
   ],
   "source": [
    "cm = confusion_matrix(y_test, y_pred)\n",
    "\n",
    "# Get class labels\n",
    "classes = unique_labels(y_test, y_pred)\n",
    "\n",
    "# Plot confusion matrix\n",
    "fig, ax = plt.subplots(figsize=(8, 8))\n",
    "sns.heatmap(cm, annot=True, cmap=\"Blues\", fmt=\"d\", xticklabels=classes, yticklabels=classes, ax=ax)\n",
    "ax.set_xlabel(\"Predicted\")\n",
    "ax.set_ylabel(\"True\")\n",
    "ax.set_title(\"Confusion Matrix\")\n",
    "plt.show()"
   ]
  },
  {
   "cell_type": "markdown",
   "id": "f054fcaa",
   "metadata": {},
   "source": [
    "# **Prediction On  Hand Drawn Image**"
   ]
  },
  {
   "cell_type": "code",
   "execution_count": 37,
   "id": "73adc7de",
   "metadata": {},
   "outputs": [],
   "source": [
    "import cv2\n",
    "from skimage.transform import resize"
   ]
  },
  {
   "cell_type": "markdown",
   "id": "48c1bea4",
   "metadata": {},
   "source": [
    "**Loading Image**"
   ]
  },
  {
   "cell_type": "code",
   "execution_count": 59,
   "id": "4d49970e",
   "metadata": {
    "scrolled": true
   },
   "outputs": [
    {
     "data": {
      "text/plain": [
       "(-0.5, 776.5, 663.5, -0.5)"
      ]
     },
     "execution_count": 59,
     "metadata": {},
     "output_type": "execute_result"
    },
    {
     "data": {
      "image/png": "[encoded data removed]",
      "text/plain": [
       "<Figure size 432x288 with 1 Axes>"
      ]
     },
     "metadata": {
      "needs_background": "light"
     },
     "output_type": "display_data"
    }
   ],
   "source": [
    "image = cv2.imread(r'.\\\\test.png', cv2.IMREAD_GRAYSCALE)\n",
    "plt.subplot(1, 2, 1)\n",
    "plt.imshow(image, cmap='gray')\n",
    "plt.title(\"Uploaded Image\")\n",
    "plt.axis('off')"
   ]
  },
  {
   "cell_type": "markdown",
   "id": "d3a96abf",
   "metadata": {},
   "source": [
    "**Preprocessing Image**"
   ]
  },
  {
   "cell_type": "code",
   "execution_count": 60,
   "id": "2074a14a",
   "metadata": {
    "scrolled": true
   },
   "outputs": [
    {
     "data": {
      "text/plain": [
       "(-0.5, 7.5, 7.5, -0.5)"
      ]
     },
     "execution_count": 60,
     "metadata": {},
     "output_type": "execute_result"
    },
    {
     "data": {
      "image/png": "[encoded data removed]",
      "text/plain": [
       "<Figure size 432x288 with 1 Axes>"
      ]
     },
     "metadata": {
      "needs_background": "light"
     },
     "output_type": "display_data"
    }
   ],
   "source": [
    "resized_image = resize(image, (8, 8))\n",
    "\n",
    "# Convert the image to the same data type as the training data (float64)\n",
    "rescaled_image = resized_image.astype(np.float64)\n",
    "\n",
    "# Normalize the image pixel values to the same range as the training data (0-16)\n",
    "normalized_image = (rescaled_image / rescaled_image.max()) * 16\n",
    "\n",
    "# Flatten the image and reshape it to match the input shape of your model\n",
    "image = normalized_image.flatten().reshape(1, -1)\n",
    "\n",
    "plt.subplot(1, 2, 2)\n",
    "plt.imshow(normalized_image, cmap='gray')\n",
    "plt.title(\"Pre-Processed Image\")\n",
    "plt.axis('off')"
   ]
  },
  {
   "cell_type": "markdown",
   "id": "dfeced3f",
   "metadata": {},
   "source": [
    "**Prediction Using Created Model**"
   ]
  },
  {
   "cell_type": "code",
   "execution_count": 61,
   "id": "e5718736",
   "metadata": {},
   "outputs": [
    {
     "name": "stdout",
     "output_type": "stream",
     "text": [
      "Predicted Label: [7]\n"
     ]
    }
   ],
   "source": [
    "prediction = model.predict(image)\n",
    "\n",
    "# Display the predicted label\n",
    "print(\"Predicted Label:\", prediction)"
   ]
  },
  {
   "cell_type": "markdown",
   "id": "9cc12023",
   "metadata": {},
   "source": [
    "**Prediction Using Built-in Model**"
   ]
  },
  {
   "cell_type": "code",
   "execution_count": 62,
   "id": "73190002",
   "metadata": {},
   "outputs": [
    {
     "name": "stdout",
     "output_type": "stream",
     "text": [
      "Predicted Label: [2]\n"
     ]
    }
   ],
   "source": [
    "prediction = built_in_model.predict(image)\n",
    "\n",
    "# Display the predicted label\n",
    "print(\"Predicted Label:\", prediction)"
   ]
  }
 ],
 "metadata": {
  "kernelspec": {
   "display_name": "Python 3 (ipykernel)",
   "language": "python",
   "name": "python3"
  },
  "language_info": {
   "codemirror_mode": {
    "name": "ipython",
    "version": 3
   },
   "file_extension": ".py",
   "mimetype": "text/x-python",
   "name": "python",
   "nbconvert_exporter": "python",
   "pygments_lexer": "ipython3",
   "version": "3.9.7"
  }
 },
 "nbformat": 4,
 "nbformat_minor": 5
}
